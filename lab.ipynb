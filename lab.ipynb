{
 "cells": [
  {
   "cell_type": "code",
   "execution_count": 2,
   "id": "816d939b-c6b1-4f85-8595-4e49f3340668",
   "metadata": {},
   "outputs": [],
   "source": [
    "from scipy import signal\n",
    "import numpy as np"
   ]
  },
  {
   "cell_type": "markdown",
   "id": "734635f3-c816-43ed-8e5c-73d7e85914d9",
   "metadata": {},
   "source": [
    "w = [1 0] [w i_a].t\n",
    "[w_linha i_a_linha] = [ [-K_v/L -r_a_L] [-b_m/J K_v/J] ] * [w i_a].t + [1/L 0] * u\n",
    "\n",
    "Sensors:\n",
    "\n",
    "- Vbus\n",
    "- i_a\n",
    "- w\n",
    "\n",
    "Pergunta:\n",
    "\n",
    "- K_v\n",
    "- L\n",
    "- ra\n",
    "- b_m\n",
    "- J\n",
    "\n"
   ]
  },
  {
   "cell_type": "code",
   "execution_count": null,
   "id": "4add5009-ecbb-4c06-83bb-e65db6c3325c",
   "metadata": {},
   "outputs": [],
   "source": []
  }
 ],
 "metadata": {
  "kernelspec": {
   "display_name": "Python 3 (ipykernel)",
   "language": "python",
   "name": "python3"
  },
  "language_info": {
   "codemirror_mode": {
    "name": "ipython",
    "version": 3
   },
   "file_extension": ".py",
   "mimetype": "text/x-python",
   "name": "python",
   "nbconvert_exporter": "python",
   "pygments_lexer": "ipython3",
   "version": "3.10.12"
  }
 },
 "nbformat": 4,
 "nbformat_minor": 5
}
